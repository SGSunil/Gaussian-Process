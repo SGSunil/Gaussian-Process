{
 "cells": [
  {
   "cell_type": "markdown",
   "metadata": {},
   "source": [
    "# Gaussian Process\n",
    "\n",
    "In this notebook, we will implement a Gaussian Process model from scratch."
   ]
  },
  {
   "cell_type": "code",
   "execution_count": 1,
   "metadata": {},
   "outputs": [],
   "source": [
    "# import all packages and set plots to be embedded inline\n",
    "import numpy as np\n",
    "import matplotlib.pyplot as plt\n",
    "from scipy.optimize import minimize\n",
    "from scipy.optimize import Bounds\n",
    "from pyDOE import lhs\n",
    "import seaborn as sns\n",
    "import pandas as pd\n",
    "\n",
    "%matplotlib inline"
   ]
  },
  {
   "cell_type": "code",
   "execution_count": 99,
   "metadata": {},
   "outputs": [],
   "source": [
    "class GaussianProcess:\n",
    "    \"\"\"A Gaussian Process class that trains and predicts \n",
    "    with a Gaussian Process model\"\"\"\n",
    "    \n",
    "    def __init__(self, n_restarts, optimizer, bounds):\n",
    "        \"\"\"Initialize a Gaussian Process model\n",
    "        \n",
    "        Input\n",
    "        ------\n",
    "        n_restarts: number of restarts of the local optimizer\n",
    "        optimizer: algorithm of local optimization\n",
    "        bounds: Bounds for GP model parameter theta\"\"\"\n",
    "        \n",
    "        self.n_restarts = n_restarts\n",
    "        self.optimizer = optimizer\n",
    "        self.bounds = bounds\n",
    "        \n",
    "    def likelihood(self, theta):\n",
    "        \"\"\"Likelihood function\n",
    "        \n",
    "        Input\n",
    "        -----\n",
    "        theta: correlation length\"\"\"\n",
    "        \n",
    "        theta = 10**theta    # Correlation length\n",
    "        n = self.X.shape[0]       # Number of training instances\n",
    "        one = np.ones((n,1))      # A vector of ones\n",
    "        \n",
    "        # Construct correlation matrix\n",
    "        Psi = np.zeros((n,n))\n",
    "        for i in range(n-1):\n",
    "            for j in range(i+1,n):\n",
    "                Psi[i,j] = np.exp(-np.sum(theta*(self.X[i,:]-self.X[j,:])**2))\n",
    "        Psi = Psi + Psi.T + np.eye(n) + np.eye(n)*1e-10\n",
    "        \n",
    "        # Mean estimation\n",
    "        mu = (one.T @ np.linalg.inv(Psi) @ self.y)/ (one.T @ np.linalg.inv(Psi) @ one)\n",
    "        \n",
    "        # Variance estimation\n",
    "        SigmaSqr = (self.y-mu*one).T @ np.linalg.inv(Psi) @ (self.y-mu*one) / n\n",
    "        \n",
    "        # Compute log-likelihood\n",
    "        DetPsi = np.linalg.det(Psi)\n",
    "        LnLike = -(n/2)*np.log(SigmaSqr) - 0.5*np.log(DetPsi)\n",
    "        \n",
    "        # Update attributes\n",
    "        self.Psi, self.mu, self.SigmaSqr = Psi, mu, SigmaSqr\n",
    "        \n",
    "        return -LnLike.flatten()\n",
    "        \n",
    "        \n",
    "    def fit(self, X, y):\n",
    "        \"\"\"GP model training\n",
    "        \n",
    "        Input\n",
    "        -----\n",
    "        X: 2D array of shape (n_samples, n_features)\n",
    "        y: 2D array of shape (n_samples, 1)\n",
    "        \"\"\"\n",
    "        \n",
    "        self.X, self.y = X, y\n",
    "        \n",
    "        # Generate random starting points (Latin Hypercube)\n",
    "        lhd = lhs(self.X.shape[1], samples=self.n_restarts)\n",
    "        # Scale random samples to the given bounds \n",
    "        lb, ub = self.bounds[0], self.bounds[1]\n",
    "        initial_points = (ub-lb)*lhd + lb\n",
    "        \n",
    "        # Create A Bounds instance for optimization\n",
    "        bnds = Bounds(lb,ub)\n",
    "        \n",
    "        # Run local optimizer on all points\n",
    "        self.opt_para, self.opt_func = np.zeros(self.n_restarts), np.zeros(self.n_restarts)\n",
    "        for i,point in enumerate(initial_points):\n",
    "            res = minimize(self.likelihood, point, method=self.optimizer,\n",
    "                bounds=bnds)\n",
    "            self.opt_para[i] = res.x\n",
    "            self.opt_func[i] = res.fun\n",
    "        \n",
    "        # Locate the optimum results\n",
    "        self.theta = self.opt_para[np.argmin(self.opt_func)]\n",
    "        \n",
    "        # Update GP attributes\n",
    "        self.LnLike = -self.likelihood(self.theta)\n",
    "    \n",
    "    def predict(self, X_test):\n",
    "        \"\"\"GP model predicting\n",
    "        \n",
    "        Input\n",
    "        -----\n",
    "        X_test: Prediction sites\"\"\"\n",
    "        \n",
    "        theta = 10**self.theta\n",
    "        n = self.X.shape[0]\n",
    "        one = np.ones((n,1))\n",
    "        \n",
    "        # Construct correlation matrix between test and train data\n",
    "        psi=np.zeros((n,X_test.shape[0]))\n",
    "        for i in range(n):\n",
    "            for j in range(X_test.shape[0]):\n",
    "                psi[i,j] = np.exp(-np.sum(theta*(self.X[i,:]-X_test[j,:])**2))\n",
    "        \n",
    "        # Mean prediction\n",
    "        f = self.mu + psi.T @ np.linalg.inv(self.Psi) @ (self.y-self.mu*one)\n",
    "        \n",
    "        # Variance prediction\n",
    "        SSqr = self.SigmaSqr*(1 - np.diag(psi.T @ np.linalg.inv(self.Psi) @ psi))\n",
    "        \n",
    "        return f.flatten(), SSqr.flatten()"
   ]
  },
  {
   "cell_type": "markdown",
   "metadata": {},
   "source": [
    "# Test function\n",
    "\n",
    "## 1D Test"
   ]
  },
  {
   "cell_type": "code",
   "execution_count": 100,
   "metadata": {},
   "outputs": [],
   "source": [
    "def test_function(x):\n",
    "    \"\"\"1D Test Function\"\"\"\n",
    "    \n",
    "    y = (x*6-2)**2*np.sin(x*12-4)\n",
    "    \n",
    "    return y"
   ]
  },
  {
   "cell_type": "code",
   "execution_count": 101,
   "metadata": {},
   "outputs": [],
   "source": [
    "# Training data\n",
    "X_train = np.array([0.0, 0.1, 0.2, 0.4, 0.5, 0.6, 0.8, 1], ndmin=2).T\n",
    "y_train = test_function(X_train)\n",
    "\n",
    "# Testing data\n",
    "X_test = np.linspace(0.0, 1, 100).reshape(-1,1)\n",
    "y_test = test_function(X_test)"
   ]
  },
  {
   "cell_type": "code",
   "execution_count": 102,
   "metadata": {},
   "outputs": [],
   "source": [
    "# GP model training\n",
    "GP = GaussianProcess(n_restarts=30, optimizer='L-BFGS-B', bounds=(-3,2))\n",
    "GP.fit(X_train, y_train)\n",
    "\n",
    "# GP model predicting\n",
    "y_pred, y_pred_SSqr = GP.predict(X_test)"
   ]
  },
  {
   "cell_type": "code",
   "execution_count": 103,
   "metadata": {},
   "outputs": [
    {
     "data": {
      "image/png": "[encoded data removed]",
      "text/plain": [
       "<Figure size 504x360 with 1 Axes>"
      ]
     },
     "metadata": {
      "needs_background": "light"
     },
     "output_type": "display_data"
    }
   ],
   "source": [
    "fig, ax = plt.subplots(figsize=(7,5))\n",
    "ax.plot(X_test,y_test,'r--',linewidth=2,label='Test Function')\n",
    "ax.plot(X_train,y_train,'ro',markerfacecolor='r', markersize=10, label='Training Data')\n",
    "ax.plot(X_test,y_pred,'b-', lw=2, label='GP Prediction')\n",
    "ax.fill_between(X_test.flatten(), y_pred-1.96*np.sqrt(y_pred_SSqr), \n",
    "                y_pred+1.96*np.sqrt(y_pred_SSqr),\n",
    "                facecolor='lavender',label='95% Credibility Interval')\n",
    "ax.tick_params(axis='both', which='major', labelsize=12)\n",
    "# ax.plot(X_test,y_pred+1.96*np.sqrt(y_pred_SSqr),'b--', lw=1.2, label='95% Confidence Interval')\n",
    "# ax.plot(X_test,y_pred-1.96*np.sqrt(y_pred_SSqr),'b--', lw=1.2)\n",
    "ax.set_xlabel('x', fontsize=15)\n",
    "ax.set_ylabel('f(x)', fontsize=15)\n",
    "ax.set_ylim([-10,20])\n",
    "ax.legend(loc=\"upper left\",prop={'size': 12});"
   ]
  },
  {
   "cell_type": "markdown",
   "metadata": {},
   "source": [
    "## 2D Test"
   ]
  },
  {
   "cell_type": "code",
   "execution_count": null,
   "metadata": {},
   "outputs": [],
   "source": []
  }
 ],
 "metadata": {
  "kernelspec": {
   "display_name": "Python 3",
   "language": "python",
   "name": "python3"
  },
  "language_info": {
   "codemirror_mode": {
    "name": "ipython",
    "version": 3
   },
   "file_extension": ".py",
   "mimetype": "text/x-python",
   "name": "python",
   "nbconvert_exporter": "python",
   "pygments_lexer": "ipython3",
   "version": "3.8.5"
  }
 },
 "nbformat": 4,
 "nbformat_minor": 4
}
